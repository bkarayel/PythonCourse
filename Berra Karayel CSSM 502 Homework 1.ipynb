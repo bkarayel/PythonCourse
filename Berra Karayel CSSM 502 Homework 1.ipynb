{
 "cells": [
  {
   "cell_type": "markdown",
   "id": "507bf1b7",
   "metadata": {},
   "source": [
    "## Berra Karayel CSSM 502 Homework 1"
   ]
  },
  {
   "cell_type": "code",
   "execution_count": 97,
   "id": "5183f858",
   "metadata": {},
   "outputs": [],
   "source": [
    "import random\n",
    "from datetime import datetime"
   ]
  },
  {
   "cell_type": "code",
   "execution_count": 117,
   "id": "0b4033e2",
   "metadata": {},
   "outputs": [],
   "source": [
    "class Portfolio (object):\n",
    "    def __init__(self):\n",
    "        self.cash = 0.00\n",
    "        self.stocks = {}\n",
    "        self.MutualFunds = {}\n",
    "        self.log = {}\n",
    "        self.transactionTime(\"Your portfolio has been created!\")\n",
    "        \n",
    "        \n",
    "    def __str__(self):\n",
    "        return \"Cash: {} \\n Stocks: {} \\n Mutual Funds: {}\".format(self.cash, self.stocks, self.mutualFunds)\n",
    "             \n",
    "    def history (self):\n",
    "        return self.log\n",
    "    \n",
    "    def transactionTime (self, info):\n",
    "        today = datetime.now()\n",
    "        logtime = today.strftime(\"%d/%m/%Y %H:%M:%S\")\n",
    "        self.log[\"{} - {}\".format(len(self.log),logtime)] = info\n",
    "   \n",
    "        \n",
    "    def addCash (self, amount):\n",
    "        self.cash =+ amount\n",
    "        self.transactionTime = (\"{} $ added to your account. , Your Current Cash Balance: {} $\".format(amount,self.cash))\n",
    "        \n",
    "    def withdrawCash (self, amount):\n",
    "        if self.cash < amount:\n",
    "            print(\"Your balance is insufficient! Enter a new amount: \")\n",
    "        else:\n",
    "            self.cash =- amount\n",
    "            self.transactionTime = (\"{} $ withdrawn from your account. , Your Current Cash Balance: {} $\".format(amount,self.cash))\n",
    "            \n",
    "     \n",
    "    def buyStock(self, amount, stock):\n",
    "         total_amount = stock.price * amount\n",
    "         if total_amount > self.cash:\n",
    "            print(\"You do not have enough balance for this transaction.\")\n",
    "         else:\n",
    "             self.cash -= total_amount\n",
    "             if stock.ticker in self.stocks:\n",
    "                real_amount = self.stocks[stock.ticker][0]\n",
    "                average_cost = ((real_amount * self.stocks[stock.ticker][1]) + \n",
    "                                (amount * stock.price)) / (real_amount + amount)\n",
    "                self.stocks[stock.ticker] = (self.stocks[stock.ticker][0] + amount, average_cost)\n",
    "             else:\n",
    "                 self.stocks[stock.ticker] = (amount, stock.price)\n",
    "             print(\"You have bought {} shares of {} stock. \".format(amount,stock.ticker))\n",
    "             self.transactionTime(\"You have bought {} shares of {} for {} $. Your Current Cash Balance: ${}$\".format(amount,stock.ticker,total_amount,self.cash))\n",
    "    \n",
    "    def sellStock (self, ticker, amount):\n",
    "        if ticker in self.stocks.keys():\n",
    "            if self.stocks[ticker][0] >= amount:\n",
    "                purchased_stock = random.uniform(0.5,1.5) * amount * self.stocks[ticker][1]\n",
    "                self.cash += purchased_stock\n",
    "                self.stocks[ticker] = (self.stocks[ticker][0] - amount, self.stocks[ticker][1])\n",
    "                print(\"You have sold {} shares of {} stock. \".format(amount,ticker))\n",
    "                self.transactionTime(\"You have sold {} shares of {} for {} $. Your Current Cash Balance is {}$\".format(amount,ticker,purchased_stock,self.cash))\n",
    "    \n",
    "    def buyMutualFund (self, amount, mf):\n",
    "        mf_cost = amount #since one share is 1 dollar\n",
    "        if mf_cost > self.cash:\n",
    "            print(\"You do not have enough balance for this transaction. You have {} $ available. / You need {} $.\".format(self.cash,mf_cost))\n",
    "        else:\n",
    "            self.cash -= mf_cost\n",
    "            if mf.ticker in self.mutualFunds:\n",
    "                self.mutualfunds[mf.ticker] = (self.mutualfunds[mf.ticker][0] + amount, mf_cost)\n",
    "            else:\n",
    "                self.mutualfunds[mf.ticker] = (amount, mf_cost)\n",
    "            print(\"You have bought {} shares of {} mutual fund. \".format(amount,mf.ticker))\n",
    "            self.transactionTime(\"You have bought {} shares of {} for {} $. You Current Cash Balance is {}$\".format(amount,mf.ticker,mf_cost,self.cash))\n",
    "    \n",
    "\n",
    "    def sellMutualFund (self, ticker, amount):\n",
    "        if ticker in self.mutualfunds.keys():\n",
    "            if self.mutualfunds[ticker][0] >= amount:\n",
    "                funds_sold = random.uniform(0.9,1.2) * amount * self.mutualfunds[ticker][1]\n",
    "                self.cash += funds_sold\n",
    "                self.mutualfunds[ticker] = (self.mutualfunds[ticker][0] - amount, self.mutualfunds[ticker][1])\n",
    "                print(\"You have sold {} shares of {} mutual fund. \".format(amount,ticker))\n",
    "                self.transactionTime(\"You have sold {} shares of {} for {} $ . Your Current Cash Balance: {} $\".format(amount,ticker,funds_sold,self.cash))\n",
    "            else: \n",
    "                print(\"You don't have enough funds\")\n",
    "        else:\n",
    "            print(\"Please enter a valid fund ticker.\") \n",
    "\n",
    "    \n",
    "    \n",
    "    class Stock(object):\n",
    "        def __init__(self, price, ticker):\n",
    "            self.price = price\n",
    "            self.ticker = ticker\n",
    "\n",
    "    class MutualFund(object):\n",
    "        def __init__(self, ticker):\n",
    "            self.ticker = ticker"
   ]
  },
  {
   "cell_type": "code",
   "execution_count": 118,
   "id": "7a2d2d7d",
   "metadata": {},
   "outputs": [
    {
     "name": "stdout",
     "output_type": "stream",
     "text": [
      "You have bought 5 shares of HFH stock. \n"
     ]
    },
    {
     "ename": "TypeError",
     "evalue": "'str' object is not callable",
     "output_type": "error",
     "traceback": [
      "\u001b[0;31m---------------------------------------------------------------------------\u001b[0m",
      "\u001b[0;31mTypeError\u001b[0m                                 Traceback (most recent call last)",
      "\u001b[0;32m<ipython-input-118-673ac62276dd>\u001b[0m in \u001b[0;36m<module>\u001b[0;34m\u001b[0m\n\u001b[1;32m      2\u001b[0m \u001b[0mportfolio\u001b[0m\u001b[0;34m.\u001b[0m\u001b[0maddCash\u001b[0m\u001b[0;34m(\u001b[0m\u001b[0;36m300.50\u001b[0m\u001b[0;34m)\u001b[0m \u001b[0;31m#Adds cash to the portfolio\u001b[0m\u001b[0;34m\u001b[0m\u001b[0;34m\u001b[0m\u001b[0m\n\u001b[1;32m      3\u001b[0m \u001b[0ms\u001b[0m \u001b[0;34m=\u001b[0m \u001b[0mStock\u001b[0m\u001b[0;34m(\u001b[0m\u001b[0;36m20\u001b[0m\u001b[0;34m,\u001b[0m \u001b[0;34m\"HFH\"\u001b[0m\u001b[0;34m)\u001b[0m \u001b[0;31m#Create Stock with price 20 and symbol \"HFH\"\u001b[0m\u001b[0;34m\u001b[0m\u001b[0;34m\u001b[0m\u001b[0m\n\u001b[0;32m----> 4\u001b[0;31m \u001b[0mportfolio\u001b[0m\u001b[0;34m.\u001b[0m\u001b[0mbuyStock\u001b[0m\u001b[0;34m(\u001b[0m\u001b[0;36m5\u001b[0m\u001b[0;34m,\u001b[0m \u001b[0ms\u001b[0m\u001b[0;34m)\u001b[0m \u001b[0;31m#Buys 5 shares of stock s\u001b[0m\u001b[0;34m\u001b[0m\u001b[0;34m\u001b[0m\u001b[0m\n\u001b[0m\u001b[1;32m      5\u001b[0m \u001b[0mmf1\u001b[0m \u001b[0;34m=\u001b[0m \u001b[0mMutualFund\u001b[0m\u001b[0;34m(\u001b[0m\u001b[0;34m\"BRT\"\u001b[0m\u001b[0;34m)\u001b[0m \u001b[0;31m#Create MF with symbol \"BRT\"\u001b[0m\u001b[0;34m\u001b[0m\u001b[0;34m\u001b[0m\u001b[0m\n\u001b[1;32m      6\u001b[0m \u001b[0mmf2\u001b[0m \u001b[0;34m=\u001b[0m \u001b[0mMutualFund\u001b[0m\u001b[0;34m(\u001b[0m\u001b[0;34m\"GHT\"\u001b[0m\u001b[0;34m)\u001b[0m \u001b[0;31m#Create MF with symbol \"GHT\"\u001b[0m\u001b[0;34m\u001b[0m\u001b[0;34m\u001b[0m\u001b[0m\n",
      "\u001b[0;32m<ipython-input-117-8b6893c1132f>\u001b[0m in \u001b[0;36mbuyStock\u001b[0;34m(self, amount, stock)\u001b[0m\n\u001b[1;32m     46\u001b[0m                  \u001b[0mself\u001b[0m\u001b[0;34m.\u001b[0m\u001b[0mstocks\u001b[0m\u001b[0;34m[\u001b[0m\u001b[0mstock\u001b[0m\u001b[0;34m.\u001b[0m\u001b[0mticker\u001b[0m\u001b[0;34m]\u001b[0m \u001b[0;34m=\u001b[0m \u001b[0;34m(\u001b[0m\u001b[0mamount\u001b[0m\u001b[0;34m,\u001b[0m \u001b[0mstock\u001b[0m\u001b[0;34m.\u001b[0m\u001b[0mprice\u001b[0m\u001b[0;34m)\u001b[0m\u001b[0;34m\u001b[0m\u001b[0;34m\u001b[0m\u001b[0m\n\u001b[1;32m     47\u001b[0m              \u001b[0mprint\u001b[0m\u001b[0;34m(\u001b[0m\u001b[0;34m\"You have bought {} shares of {} stock. \"\u001b[0m\u001b[0;34m.\u001b[0m\u001b[0mformat\u001b[0m\u001b[0;34m(\u001b[0m\u001b[0mamount\u001b[0m\u001b[0;34m,\u001b[0m\u001b[0mstock\u001b[0m\u001b[0;34m.\u001b[0m\u001b[0mticker\u001b[0m\u001b[0;34m)\u001b[0m\u001b[0;34m)\u001b[0m\u001b[0;34m\u001b[0m\u001b[0;34m\u001b[0m\u001b[0m\n\u001b[0;32m---> 48\u001b[0;31m              \u001b[0mself\u001b[0m\u001b[0;34m.\u001b[0m\u001b[0mtransactionTime\u001b[0m\u001b[0;34m(\u001b[0m\u001b[0;34m\"You have bought {} shares of {} for {} $. Your Current Cash Balance: ${}$\"\u001b[0m\u001b[0;34m.\u001b[0m\u001b[0mformat\u001b[0m\u001b[0;34m(\u001b[0m\u001b[0mamount\u001b[0m\u001b[0;34m,\u001b[0m\u001b[0mstock\u001b[0m\u001b[0;34m.\u001b[0m\u001b[0mticker\u001b[0m\u001b[0;34m,\u001b[0m\u001b[0mtotal_amount\u001b[0m\u001b[0;34m,\u001b[0m\u001b[0mself\u001b[0m\u001b[0;34m.\u001b[0m\u001b[0mcash\u001b[0m\u001b[0;34m)\u001b[0m\u001b[0;34m)\u001b[0m\u001b[0;34m\u001b[0m\u001b[0;34m\u001b[0m\u001b[0m\n\u001b[0m\u001b[1;32m     49\u001b[0m \u001b[0;34m\u001b[0m\u001b[0m\n\u001b[1;32m     50\u001b[0m     \u001b[0;32mdef\u001b[0m \u001b[0msellStock\u001b[0m \u001b[0;34m(\u001b[0m\u001b[0mself\u001b[0m\u001b[0;34m,\u001b[0m \u001b[0mticker\u001b[0m\u001b[0;34m,\u001b[0m \u001b[0mamount\u001b[0m\u001b[0;34m)\u001b[0m\u001b[0;34m:\u001b[0m\u001b[0;34m\u001b[0m\u001b[0;34m\u001b[0m\u001b[0m\n",
      "\u001b[0;31mTypeError\u001b[0m: 'str' object is not callable"
     ]
    }
   ],
   "source": [
    "portfolio = Portfolio() #Creates a new portfolio\n",
    "portfolio.addCash(300.50) #Adds cash to the portfolio\n",
    "s = Stock(20, \"HFH\") #Create Stock with price 20 and symbol \"HFH\"\n",
    "portfolio.buyStock(5, s) #Buys 5 shares of stock s\n",
    "mf1 = MutualFund(\"BRT\") #Create MF with symbol \"BRT\"\n",
    "mf2 = MutualFund(\"GHT\") #Create MF with symbol \"GHT\"\n",
    "portfolio.buyMutualFund(10.3, mf1) #Buys 10.3 shares of \"BRT\"\n",
    "portfolio.buyMutualFund(2, mf2) #Buys 2 shares of \"GHT\"\n",
    "print(portfolio) #Prints portfolio\n",
    "#cash: $140.50\n",
    "#stock: 5 HFH\n",
    "#mutual funds: 10.33 BRT\n",
    "# 2 GHT\n",
    "portfolio.sellMutualFund(\"BRT\", 3) #Sells 3 shares of BRT\n",
    "portfolio.sellStock(\"HFH\", 1) #Sells 1 share of HFH\n",
    "portfolio.withdrawCash(50) #Removes $50\n",
    "portfolio.history() #Prints a list of all transactions\n",
    "#ordered by time"
   ]
  },
  {
   "cell_type": "code",
   "execution_count": 92,
   "id": "b66c7db5",
   "metadata": {},
   "outputs": [],
   "source": []
  },
  {
   "cell_type": "code",
   "execution_count": null,
   "id": "5232c2e2",
   "metadata": {},
   "outputs": [],
   "source": []
  }
 ],
 "metadata": {
  "kernelspec": {
   "display_name": "Python 3",
   "language": "python",
   "name": "python3"
  },
  "language_info": {
   "codemirror_mode": {
    "name": "ipython",
    "version": 3
   },
   "file_extension": ".py",
   "mimetype": "text/x-python",
   "name": "python",
   "nbconvert_exporter": "python",
   "pygments_lexer": "ipython3",
   "version": "3.8.8"
  }
 },
 "nbformat": 4,
 "nbformat_minor": 5
}
